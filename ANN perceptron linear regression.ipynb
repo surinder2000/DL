{
 "cells": [
  {
   "cell_type": "code",
   "execution_count": 1,
   "metadata": {},
   "outputs": [],
   "source": [
    "import pandas as pd"
   ]
  },
  {
   "cell_type": "code",
   "execution_count": 2,
   "metadata": {},
   "outputs": [],
   "source": [
    "data = pd.read_csv('weight-height.csv')"
   ]
  },
  {
   "cell_type": "code",
   "execution_count": 3,
   "metadata": {},
   "outputs": [
    {
     "data": {
      "text/html": [
       "<div>\n",
       "<style scoped>\n",
       "    .dataframe tbody tr th:only-of-type {\n",
       "        vertical-align: middle;\n",
       "    }\n",
       "\n",
       "    .dataframe tbody tr th {\n",
       "        vertical-align: top;\n",
       "    }\n",
       "\n",
       "    .dataframe thead th {\n",
       "        text-align: right;\n",
       "    }\n",
       "</style>\n",
       "<table border=\"1\" class=\"dataframe\">\n",
       "  <thead>\n",
       "    <tr style=\"text-align: right;\">\n",
       "      <th></th>\n",
       "      <th>Gender</th>\n",
       "      <th>Height</th>\n",
       "      <th>Weight</th>\n",
       "    </tr>\n",
       "  </thead>\n",
       "  <tbody>\n",
       "    <tr>\n",
       "      <th>0</th>\n",
       "      <td>Male</td>\n",
       "      <td>73.847017</td>\n",
       "      <td>241.893563</td>\n",
       "    </tr>\n",
       "    <tr>\n",
       "      <th>1</th>\n",
       "      <td>Male</td>\n",
       "      <td>68.781904</td>\n",
       "      <td>162.310473</td>\n",
       "    </tr>\n",
       "    <tr>\n",
       "      <th>2</th>\n",
       "      <td>Male</td>\n",
       "      <td>74.110105</td>\n",
       "      <td>212.740856</td>\n",
       "    </tr>\n",
       "    <tr>\n",
       "      <th>3</th>\n",
       "      <td>Male</td>\n",
       "      <td>71.730978</td>\n",
       "      <td>220.042470</td>\n",
       "    </tr>\n",
       "    <tr>\n",
       "      <th>4</th>\n",
       "      <td>Male</td>\n",
       "      <td>69.881796</td>\n",
       "      <td>206.349801</td>\n",
       "    </tr>\n",
       "  </tbody>\n",
       "</table>\n",
       "</div>"
      ],
      "text/plain": [
       "  Gender     Height      Weight\n",
       "0   Male  73.847017  241.893563\n",
       "1   Male  68.781904  162.310473\n",
       "2   Male  74.110105  212.740856\n",
       "3   Male  71.730978  220.042470\n",
       "4   Male  69.881796  206.349801"
      ]
     },
     "execution_count": 3,
     "metadata": {},
     "output_type": "execute_result"
    }
   ],
   "source": [
    "data.head()"
   ]
  },
  {
   "cell_type": "code",
   "execution_count": 4,
   "metadata": {},
   "outputs": [
    {
     "name": "stdout",
     "output_type": "stream",
     "text": [
      "<class 'pandas.core.frame.DataFrame'>\n",
      "RangeIndex: 10000 entries, 0 to 9999\n",
      "Data columns (total 3 columns):\n",
      " #   Column  Non-Null Count  Dtype  \n",
      "---  ------  --------------  -----  \n",
      " 0   Gender  10000 non-null  object \n",
      " 1   Height  10000 non-null  float64\n",
      " 2   Weight  10000 non-null  float64\n",
      "dtypes: float64(2), object(1)\n",
      "memory usage: 234.5+ KB\n"
     ]
    }
   ],
   "source": [
    "data.info()"
   ]
  },
  {
   "cell_type": "code",
   "execution_count": 5,
   "metadata": {},
   "outputs": [
    {
     "data": {
      "text/plain": [
       "Index(['Gender', 'Height', 'Weight'], dtype='object')"
      ]
     },
     "execution_count": 5,
     "metadata": {},
     "output_type": "execute_result"
    }
   ],
   "source": [
    "data.columns"
   ]
  },
  {
   "cell_type": "code",
   "execution_count": 6,
   "metadata": {},
   "outputs": [],
   "source": [
    "X = data['Height']"
   ]
  },
  {
   "cell_type": "code",
   "execution_count": 7,
   "metadata": {},
   "outputs": [],
   "source": [
    "y = data['Weight']"
   ]
  },
  {
   "cell_type": "code",
   "execution_count": 8,
   "metadata": {},
   "outputs": [
    {
     "name": "stderr",
     "output_type": "stream",
     "text": [
      "Using TensorFlow backend.\n"
     ]
    }
   ],
   "source": [
    "from keras.models import Sequential\n",
    "from keras.layers import Dense\n",
    "from keras.optimizers import Adam"
   ]
  },
  {
   "cell_type": "code",
   "execution_count": 9,
   "metadata": {},
   "outputs": [],
   "source": [
    "model = Sequential()"
   ]
  },
  {
   "cell_type": "code",
   "execution_count": 10,
   "metadata": {},
   "outputs": [],
   "source": [
    "model.add(Dense(units=1, input_shape=(1,)))"
   ]
  },
  {
   "cell_type": "code",
   "execution_count": 11,
   "metadata": {},
   "outputs": [
    {
     "name": "stdout",
     "output_type": "stream",
     "text": [
      "Model: \"sequential_1\"\n",
      "_________________________________________________________________\n",
      "Layer (type)                 Output Shape              Param #   \n",
      "=================================================================\n",
      "dense_1 (Dense)              (None, 1)                 2         \n",
      "=================================================================\n",
      "Total params: 2\n",
      "Trainable params: 2\n",
      "Non-trainable params: 0\n",
      "_________________________________________________________________\n"
     ]
    }
   ],
   "source": [
    "model.summary()"
   ]
  },
  {
   "cell_type": "code",
   "execution_count": 15,
   "metadata": {},
   "outputs": [],
   "source": [
    "model.compile(optimizer=Adam(learning_rate=0.0001), loss='mean_squared_error')"
   ]
  },
  {
   "cell_type": "code",
   "execution_count": 16,
   "metadata": {},
   "outputs": [
    {
     "name": "stdout",
     "output_type": "stream",
     "text": [
      "Epoch 1/100\n",
      "10000/10000 [==============================] - 0s 29us/step - loss: 10085.1226\n",
      "Epoch 2/100\n",
      "10000/10000 [==============================] - 0s 24us/step - loss: 9681.8670\n",
      "Epoch 3/100\n",
      "10000/10000 [==============================] - 0s 23us/step - loss: 9291.0702\n",
      "Epoch 4/100\n",
      "10000/10000 [==============================] - 0s 22us/step - loss: 8911.9631\n",
      "Epoch 5/100\n",
      "10000/10000 [==============================] - 0s 22us/step - loss: 8544.2444\n",
      "Epoch 6/100\n",
      "10000/10000 [==============================] - 0s 21us/step - loss: 8187.3417\n",
      "Epoch 7/100\n",
      "10000/10000 [==============================] - 0s 23us/step - loss: 7840.8978\n",
      "Epoch 8/100\n",
      "10000/10000 [==============================] - 0s 21us/step - loss: 7504.3248\n",
      "Epoch 9/100\n",
      "10000/10000 [==============================] - 0s 22us/step - loss: 7177.4234\n",
      "Epoch 10/100\n",
      "10000/10000 [==============================] - 0s 21us/step - loss: 6859.7078\n",
      "Epoch 11/100\n",
      "10000/10000 [==============================] - 0s 22us/step - loss: 6551.1783\n",
      "Epoch 12/100\n",
      "10000/10000 [==============================] - 0s 23us/step - loss: 6251.6165\n",
      "Epoch 13/100\n",
      "10000/10000 [==============================] - 0s 23us/step - loss: 5960.7410\n",
      "Epoch 14/100\n",
      "10000/10000 [==============================] - 0s 22us/step - loss: 5678.5005\n",
      "Epoch 15/100\n",
      "10000/10000 [==============================] - 0s 21us/step - loss: 5404.7791\n",
      "Epoch 16/100\n",
      "10000/10000 [==============================] - 0s 21us/step - loss: 5139.3793\n",
      "Epoch 17/100\n",
      "10000/10000 [==============================] - 0s 24us/step - loss: 4882.3043\n",
      "Epoch 18/100\n",
      "10000/10000 [==============================] - 0s 22us/step - loss: 4633.4052\n",
      "Epoch 19/100\n",
      "10000/10000 [==============================] - 0s 21us/step - loss: 4392.9087\n",
      "Epoch 20/100\n",
      "10000/10000 [==============================] - 0s 22us/step - loss: 4160.3550\n",
      "Epoch 21/100\n",
      "10000/10000 [==============================] - 0s 22us/step - loss: 3935.7481\n",
      "Epoch 22/100\n",
      "10000/10000 [==============================] - 0s 21us/step - loss: 3719.0889\n",
      "Epoch 23/100\n",
      "10000/10000 [==============================] - 0s 21us/step - loss: 3510.4580\n",
      "Epoch 24/100\n",
      "10000/10000 [==============================] - 0s 23us/step - loss: 3309.7299\n",
      "Epoch 25/100\n",
      "10000/10000 [==============================] - 0s 23us/step - loss: 3116.7597\n",
      "Epoch 26/100\n",
      "10000/10000 [==============================] - 0s 23us/step - loss: 2931.6120\n",
      "Epoch 27/100\n",
      "10000/10000 [==============================] - 0s 23us/step - loss: 2754.3324\n",
      "Epoch 28/100\n",
      "10000/10000 [==============================] - 0s 21us/step - loss: 2584.7475\n",
      "Epoch 29/100\n",
      "10000/10000 [==============================] - 0s 22us/step - loss: 2422.7890\n",
      "Epoch 30/100\n",
      "10000/10000 [==============================] - 0s 23us/step - loss: 2268.3611\n",
      "Epoch 31/100\n",
      "10000/10000 [==============================] - 0s 23us/step - loss: 2121.3665\n",
      "Epoch 32/100\n",
      "10000/10000 [==============================] - 0s 22us/step - loss: 1981.9039\n",
      "Epoch 33/100\n",
      "10000/10000 [==============================] - 0s 24us/step - loss: 1849.8656\n",
      "Epoch 34/100\n",
      "10000/10000 [==============================] - 0s 21us/step - loss: 1725.1719\n",
      "Epoch 35/100\n",
      "10000/10000 [==============================] - 0s 22us/step - loss: 1607.7711\n",
      "Epoch 36/100\n",
      "10000/10000 [==============================] - 0s 23us/step - loss: 1497.5505\n",
      "Epoch 37/100\n",
      "10000/10000 [==============================] - 0s 22us/step - loss: 1394.4527\n",
      "Epoch 38/100\n",
      "10000/10000 [==============================] - 0s 24us/step - loss: 1298.4529\n",
      "Epoch 39/100\n",
      "10000/10000 [==============================] - 0s 25us/step - loss: 1209.3991\n",
      "Epoch 40/100\n",
      "10000/10000 [==============================] - 0s 24us/step - loss: 1127.1649\n",
      "Epoch 41/100\n",
      "10000/10000 [==============================] - 0s 22us/step - loss: 1051.5142\n",
      "Epoch 42/100\n",
      "10000/10000 [==============================] - 0s 21us/step - loss: 982.4104\n",
      "Epoch 43/100\n",
      "10000/10000 [==============================] - 0s 23us/step - loss: 919.5910\n",
      "Epoch 44/100\n",
      "10000/10000 [==============================] - 0s 24us/step - loss: 862.9099\n",
      "Epoch 45/100\n",
      "10000/10000 [==============================] - 0s 23us/step - loss: 812.3474\n",
      "Epoch 46/100\n",
      "10000/10000 [==============================] - 0s 22us/step - loss: 767.6426\n",
      "Epoch 47/100\n",
      "10000/10000 [==============================] - 0s 22us/step - loss: 728.5118\n",
      "Epoch 48/100\n",
      "10000/10000 [==============================] - 0s 21us/step - loss: 694.6750\n",
      "Epoch 49/100\n",
      "10000/10000 [==============================] - 0s 22us/step - loss: 665.8479\n",
      "Epoch 50/100\n",
      "10000/10000 [==============================] - 0s 22us/step - loss: 641.6909\n",
      "Epoch 51/100\n",
      "10000/10000 [==============================] - 0s 21us/step - loss: 621.7931\n",
      "Epoch 52/100\n",
      "10000/10000 [==============================] - 0s 22us/step - loss: 605.8675\n",
      "Epoch 53/100\n",
      "10000/10000 [==============================] - 0s 22us/step - loss: 593.3965\n",
      "Epoch 54/100\n",
      "10000/10000 [==============================] - 0s 22us/step - loss: 583.9363\n",
      "Epoch 55/100\n",
      "10000/10000 [==============================] - 0s 23us/step - loss: 577.0032\n",
      "Epoch 56/100\n",
      "10000/10000 [==============================] - 0s 22us/step - loss: 572.2510\n",
      "Epoch 57/100\n",
      "10000/10000 [==============================] - 0s 22us/step - loss: 569.0894\n",
      "Epoch 58/100\n",
      "10000/10000 [==============================] - 0s 22us/step - loss: 567.1002\n",
      "Epoch 59/100\n",
      "10000/10000 [==============================] - 0s 21us/step - loss: 565.9490\n",
      "Epoch 60/100\n",
      "10000/10000 [==============================] - 0s 21us/step - loss: 565.2820\n",
      "Epoch 61/100\n",
      "10000/10000 [==============================] - 0s 22us/step - loss: 564.9500\n",
      "Epoch 62/100\n",
      "10000/10000 [==============================] - 0s 21us/step - loss: 564.7833\n",
      "Epoch 63/100\n",
      "10000/10000 [==============================] - 0s 23us/step - loss: 564.6822\n",
      "Epoch 64/100\n",
      "10000/10000 [==============================] - 0s 22us/step - loss: 564.6324\n",
      "Epoch 65/100\n",
      "10000/10000 [==============================] - 0s 22us/step - loss: 564.6032\n",
      "Epoch 66/100\n",
      "10000/10000 [==============================] - 0s 23us/step - loss: 564.5758\n",
      "Epoch 67/100\n",
      "10000/10000 [==============================] - 0s 23us/step - loss: 564.5468\n",
      "Epoch 68/100\n",
      "10000/10000 [==============================] - 0s 22us/step - loss: 564.5359\n",
      "Epoch 69/100\n",
      "10000/10000 [==============================] - 0s 22us/step - loss: 564.5044\n",
      "Epoch 70/100\n",
      "10000/10000 [==============================] - 0s 23us/step - loss: 564.4906\n",
      "Epoch 71/100\n",
      "10000/10000 [==============================] - 0s 24us/step - loss: 564.4706\n",
      "Epoch 72/100\n",
      "10000/10000 [==============================] - 0s 23us/step - loss: 564.4558\n",
      "Epoch 73/100\n",
      "10000/10000 [==============================] - 0s 22us/step - loss: 564.4466\n",
      "Epoch 74/100\n",
      "10000/10000 [==============================] - 0s 21us/step - loss: 564.4083\n",
      "Epoch 75/100\n",
      "10000/10000 [==============================] - 0s 21us/step - loss: 564.3958\n",
      "Epoch 76/100\n",
      "10000/10000 [==============================] - 0s 21us/step - loss: 564.3747\n",
      "Epoch 77/100\n",
      "10000/10000 [==============================] - 0s 22us/step - loss: 564.3538\n",
      "Epoch 78/100\n",
      "10000/10000 [==============================] - 0s 21us/step - loss: 564.3323\n",
      "Epoch 79/100\n",
      "10000/10000 [==============================] - 0s 23us/step - loss: 564.3111\n",
      "Epoch 80/100\n",
      "10000/10000 [==============================] - 0s 21us/step - loss: 564.2954\n",
      "Epoch 81/100\n",
      "10000/10000 [==============================] - 0s 22us/step - loss: 564.2723\n",
      "Epoch 82/100\n",
      "10000/10000 [==============================] - 0s 21us/step - loss: 564.2588\n",
      "Epoch 83/100\n",
      "10000/10000 [==============================] - 0s 22us/step - loss: 564.2284\n",
      "Epoch 84/100\n",
      "10000/10000 [==============================] - 0s 22us/step - loss: 564.2082\n",
      "Epoch 85/100\n",
      "10000/10000 [==============================] - 0s 21us/step - loss: 564.1958\n",
      "Epoch 86/100\n",
      "10000/10000 [==============================] - 0s 22us/step - loss: 564.1666\n",
      "Epoch 87/100\n",
      "10000/10000 [==============================] - 0s 23us/step - loss: 564.1523\n",
      "Epoch 88/100\n",
      "10000/10000 [==============================] - 0s 22us/step - loss: 564.1263\n",
      "Epoch 89/100\n",
      "10000/10000 [==============================] - 0s 24us/step - loss: 564.1118\n",
      "Epoch 90/100\n",
      "10000/10000 [==============================] - 0s 23us/step - loss: 564.0919\n",
      "Epoch 91/100\n"
     ]
    },
    {
     "name": "stdout",
     "output_type": "stream",
     "text": [
      "10000/10000 [==============================] - 0s 23us/step - loss: 564.0731\n",
      "Epoch 92/100\n",
      "10000/10000 [==============================] - 0s 22us/step - loss: 564.0586\n",
      "Epoch 93/100\n",
      "10000/10000 [==============================] - 0s 22us/step - loss: 564.0283\n",
      "Epoch 94/100\n",
      "10000/10000 [==============================] - 0s 23us/step - loss: 564.0215\n",
      "Epoch 95/100\n",
      "10000/10000 [==============================] - 0s 21us/step - loss: 563.9963\n",
      "Epoch 96/100\n",
      "10000/10000 [==============================] - 0s 21us/step - loss: 563.9696\n",
      "Epoch 97/100\n",
      "10000/10000 [==============================] - 0s 22us/step - loss: 563.9558\n",
      "Epoch 98/100\n",
      "10000/10000 [==============================] - 0s 22us/step - loss: 563.9377\n",
      "Epoch 99/100\n",
      "10000/10000 [==============================] - 0s 22us/step - loss: 563.9204\n",
      "Epoch 100/100\n",
      "10000/10000 [==============================] - 0s 21us/step - loss: 563.9002\n"
     ]
    },
    {
     "data": {
      "text/plain": [
       "<keras.callbacks.callbacks.History at 0x7f1cf643a860>"
      ]
     },
     "execution_count": 16,
     "metadata": {},
     "output_type": "execute_result"
    }
   ],
   "source": [
    "model.fit(X,y, epochs=100)"
   ]
  },
  {
   "cell_type": "code",
   "execution_count": 17,
   "metadata": {},
   "outputs": [
    {
     "data": {
      "text/plain": [
       "array([[181.18875]], dtype=float32)"
      ]
     },
     "execution_count": 17,
     "metadata": {},
     "output_type": "execute_result"
    }
   ],
   "source": [
    "model.predict([74])"
   ]
  },
  {
   "cell_type": "code",
   "execution_count": null,
   "metadata": {},
   "outputs": [],
   "source": []
  },
  {
   "cell_type": "code",
   "execution_count": null,
   "metadata": {},
   "outputs": [],
   "source": [
    "W,B = model.get_weights()"
   ]
  },
  {
   "cell_type": "code",
   "execution_count": null,
   "metadata": {},
   "outputs": [],
   "source": [
    "W.shape"
   ]
  },
  {
   "cell_type": "code",
   "execution_count": null,
   "metadata": {},
   "outputs": [],
   "source": [
    "W[0,0] = 0.0"
   ]
  },
  {
   "cell_type": "code",
   "execution_count": null,
   "metadata": {},
   "outputs": [],
   "source": [
    "B[0] = 0.0"
   ]
  },
  {
   "cell_type": "code",
   "execution_count": null,
   "metadata": {},
   "outputs": [],
   "source": [
    "model.set_weights((W,B))"
   ]
  },
  {
   "cell_type": "code",
   "execution_count": null,
   "metadata": {},
   "outputs": [],
   "source": [
    "model.get_weights()"
   ]
  },
  {
   "cell_type": "code",
   "execution_count": null,
   "metadata": {},
   "outputs": [],
   "source": []
  },
  {
   "cell_type": "code",
   "execution_count": null,
   "metadata": {},
   "outputs": [],
   "source": []
  }
 ],
 "metadata": {
  "kernelspec": {
   "display_name": "Python 3",
   "language": "python",
   "name": "python3"
  },
  "language_info": {
   "codemirror_mode": {
    "name": "ipython",
    "version": 3
   },
   "file_extension": ".py",
   "mimetype": "text/x-python",
   "name": "python",
   "nbconvert_exporter": "python",
   "pygments_lexer": "ipython3",
   "version": "3.6.10"
  }
 },
 "nbformat": 4,
 "nbformat_minor": 4
}
