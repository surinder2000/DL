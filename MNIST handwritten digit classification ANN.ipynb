{
 "cells": [
  {
   "cell_type": "code",
   "execution_count": 1,
   "metadata": {},
   "outputs": [
    {
     "name": "stderr",
     "output_type": "stream",
     "text": [
      "Using TensorFlow backend.\n"
     ]
    }
   ],
   "source": [
    "from keras.datasets import mnist"
   ]
  },
  {
   "cell_type": "code",
   "execution_count": 2,
   "metadata": {},
   "outputs": [],
   "source": [
    "data = mnist.load_data('mnist.db')"
   ]
  },
  {
   "cell_type": "code",
   "execution_count": 3,
   "metadata": {},
   "outputs": [
    {
     "data": {
      "text/plain": [
       "2"
      ]
     },
     "execution_count": 3,
     "metadata": {},
     "output_type": "execute_result"
    }
   ],
   "source": [
    "len(data)"
   ]
  },
  {
   "cell_type": "code",
   "execution_count": 4,
   "metadata": {},
   "outputs": [],
   "source": [
    "train_data, test_data = data"
   ]
  },
  {
   "cell_type": "code",
   "execution_count": 5,
   "metadata": {},
   "outputs": [
    {
     "data": {
      "text/plain": [
       "2"
      ]
     },
     "execution_count": 5,
     "metadata": {},
     "output_type": "execute_result"
    }
   ],
   "source": [
    "len(train_data)"
   ]
  },
  {
   "cell_type": "code",
   "execution_count": 6,
   "metadata": {},
   "outputs": [],
   "source": [
    "X_train, y_train = train_data"
   ]
  },
  {
   "cell_type": "code",
   "execution_count": 7,
   "metadata": {},
   "outputs": [
    {
     "data": {
      "text/plain": [
       "60000"
      ]
     },
     "execution_count": 7,
     "metadata": {},
     "output_type": "execute_result"
    }
   ],
   "source": [
    "len(X_train)"
   ]
  },
  {
   "cell_type": "code",
   "execution_count": 8,
   "metadata": {},
   "outputs": [],
   "source": [
    "X_test, y_test = test_data"
   ]
  },
  {
   "cell_type": "code",
   "execution_count": 9,
   "metadata": {},
   "outputs": [
    {
     "data": {
      "text/plain": [
       "10000"
      ]
     },
     "execution_count": 9,
     "metadata": {},
     "output_type": "execute_result"
    }
   ],
   "source": [
    "len(X_test)"
   ]
  },
  {
   "cell_type": "code",
   "execution_count": 10,
   "metadata": {},
   "outputs": [
    {
     "data": {
      "text/plain": [
       "(28, 28)"
      ]
     },
     "execution_count": 10,
     "metadata": {},
     "output_type": "execute_result"
    }
   ],
   "source": [
    "X_test[0].shape"
   ]
  },
  {
   "cell_type": "code",
   "execution_count": 11,
   "metadata": {},
   "outputs": [],
   "source": [
    "import matplotlib.pyplot as plt"
   ]
  },
  {
   "cell_type": "code",
   "execution_count": 12,
   "metadata": {},
   "outputs": [
    {
     "data": {
      "text/plain": [
       "<matplotlib.image.AxesImage at 0x7f24af364e48>"
      ]
     },
     "execution_count": 12,
     "metadata": {},
     "output_type": "execute_result"
    },
    {
     "data": {
      "image/png": "[encoded data removed]",
      "text/plain": [
       "<Figure size 432x288 with 1 Axes>"
      ]
     },
     "metadata": {
      "needs_background": "light"
     },
     "output_type": "display_data"
    }
   ],
   "source": [
    "plt.imshow(X_train[0],cmap='gray')"
   ]
  },
  {
   "cell_type": "code",
   "execution_count": 13,
   "metadata": {},
   "outputs": [],
   "source": [
    "X_train = X_train.reshape(-1,28*28)"
   ]
  },
  {
   "cell_type": "code",
   "execution_count": 14,
   "metadata": {},
   "outputs": [
    {
     "data": {
      "text/plain": [
       "(60000, 784)"
      ]
     },
     "execution_count": 14,
     "metadata": {},
     "output_type": "execute_result"
    }
   ],
   "source": [
    "X_train.shape"
   ]
  },
  {
   "cell_type": "code",
   "execution_count": 15,
   "metadata": {},
   "outputs": [],
   "source": [
    "X_test = X_test.reshape(-1,28*28)"
   ]
  },
  {
   "cell_type": "code",
   "execution_count": 16,
   "metadata": {},
   "outputs": [
    {
     "data": {
      "text/plain": [
       "(10000, 784)"
      ]
     },
     "execution_count": 16,
     "metadata": {},
     "output_type": "execute_result"
    }
   ],
   "source": [
    "X_test.shape"
   ]
  },
  {
   "cell_type": "code",
   "execution_count": 17,
   "metadata": {},
   "outputs": [
    {
     "data": {
      "text/plain": [
       "(60000,)"
      ]
     },
     "execution_count": 17,
     "metadata": {},
     "output_type": "execute_result"
    }
   ],
   "source": [
    "y_train.shape"
   ]
  },
  {
   "cell_type": "code",
   "execution_count": 18,
   "metadata": {},
   "outputs": [
    {
     "data": {
      "text/plain": [
       "(10000,)"
      ]
     },
     "execution_count": 18,
     "metadata": {},
     "output_type": "execute_result"
    }
   ],
   "source": [
    "y_test.shape"
   ]
  },
  {
   "cell_type": "code",
   "execution_count": 19,
   "metadata": {},
   "outputs": [],
   "source": [
    "from keras.utils.np_utils import to_categorical"
   ]
  },
  {
   "cell_type": "code",
   "execution_count": 20,
   "metadata": {},
   "outputs": [],
   "source": [
    "y_train = to_categorical(y_train)"
   ]
  },
  {
   "cell_type": "code",
   "execution_count": 21,
   "metadata": {},
   "outputs": [
    {
     "data": {
      "text/plain": [
       "array([[0., 0., 0., ..., 0., 0., 0.],\n",
       "       [1., 0., 0., ..., 0., 0., 0.],\n",
       "       [0., 0., 0., ..., 0., 0., 0.],\n",
       "       ...,\n",
       "       [0., 0., 0., ..., 0., 0., 0.],\n",
       "       [0., 0., 0., ..., 0., 0., 0.],\n",
       "       [0., 0., 0., ..., 0., 1., 0.]], dtype=float32)"
      ]
     },
     "execution_count": 21,
     "metadata": {},
     "output_type": "execute_result"
    }
   ],
   "source": [
    "y_train"
   ]
  },
  {
   "cell_type": "code",
   "execution_count": 22,
   "metadata": {},
   "outputs": [],
   "source": [
    "from keras.models import Sequential\n",
    "from keras.layers import Dense\n",
    "from keras.optimizers import Adam"
   ]
  },
  {
   "cell_type": "code",
   "execution_count": 23,
   "metadata": {},
   "outputs": [],
   "source": [
    "model = Sequential()"
   ]
  },
  {
   "cell_type": "code",
   "execution_count": 24,
   "metadata": {},
   "outputs": [],
   "source": [
    "model.add(Dense(units = 512, input_shape=(28*28,), activation='relu'))"
   ]
  },
  {
   "cell_type": "code",
   "execution_count": 25,
   "metadata": {},
   "outputs": [],
   "source": [
    "model.add(Dense(units = 256, activation='relu'))\n",
    "model.add(Dense(units = 128, activation='relu'))\n",
    "model.add(Dense(units = 32, activation='relu'))"
   ]
  },
  {
   "cell_type": "code",
   "execution_count": 26,
   "metadata": {},
   "outputs": [],
   "source": [
    "model.add(Dense(units=10, activation='softmax'))"
   ]
  },
  {
   "cell_type": "code",
   "execution_count": 27,
   "metadata": {},
   "outputs": [],
   "source": [
    "model.compile(optimizer=Adam(),loss='categorical_crossentropy',metrics=['accuracy'])"
   ]
  },
  {
   "cell_type": "code",
   "execution_count": 28,
   "metadata": {},
   "outputs": [
    {
     "name": "stdout",
     "output_type": "stream",
     "text": [
      "Epoch 1/30\n",
      "60000/60000 [==============================] - 10s 164us/step - loss: 1.5515 - accuracy: 0.5033\n",
      "Epoch 2/30\n",
      "60000/60000 [==============================] - 10s 172us/step - loss: 0.3945 - accuracy: 0.9013\n",
      "Epoch 3/30\n",
      "60000/60000 [==============================] - 10s 163us/step - loss: 0.1848 - accuracy: 0.9525\n",
      "Epoch 4/30\n",
      "60000/60000 [==============================] - 11s 176us/step - loss: 0.1383 - accuracy: 0.9632\n",
      "Epoch 5/30\n",
      "60000/60000 [==============================] - 10s 175us/step - loss: 0.1037 - accuracy: 0.9719\n",
      "Epoch 6/30\n",
      "60000/60000 [==============================] - 11s 182us/step - loss: 0.0925 - accuracy: 0.9759\n",
      "Epoch 7/30\n",
      "60000/60000 [==============================] - 11s 188us/step - loss: 0.0732 - accuracy: 0.9806\n",
      "Epoch 8/30\n",
      "60000/60000 [==============================] - 11s 182us/step - loss: 0.0718 - accuracy: 0.9808\n",
      "Epoch 9/30\n",
      "60000/60000 [==============================] - 10s 162us/step - loss: 0.0651 - accuracy: 0.9833\n",
      "Epoch 10/30\n",
      "60000/60000 [==============================] - 10s 169us/step - loss: 0.0551 - accuracy: 0.9854\n",
      "Epoch 11/30\n",
      "60000/60000 [==============================] - 10s 173us/step - loss: 0.0529 - accuracy: 0.9865\n",
      "Epoch 12/30\n",
      "60000/60000 [==============================] - 11s 179us/step - loss: 0.0539 - accuracy: 0.9873\n",
      "Epoch 13/30\n",
      "60000/60000 [==============================] - 10s 164us/step - loss: 0.0476 - accuracy: 0.9883\n",
      "Epoch 14/30\n",
      "60000/60000 [==============================] - 11s 178us/step - loss: 0.0500 - accuracy: 0.9887\n",
      "Epoch 15/30\n",
      "60000/60000 [==============================] - 10s 168us/step - loss: 0.0451 - accuracy: 0.9897\n",
      "Epoch 16/30\n",
      "60000/60000 [==============================] - 10s 162us/step - loss: 0.0419 - accuracy: 0.9902\n",
      "Epoch 17/30\n",
      "60000/60000 [==============================] - 10s 160us/step - loss: 0.0447 - accuracy: 0.9902\n",
      "Epoch 18/30\n",
      "60000/60000 [==============================] - 10s 160us/step - loss: 0.0396 - accuracy: 0.9913\n",
      "Epoch 19/30\n",
      "60000/60000 [==============================] - 10s 168us/step - loss: 0.0342 - accuracy: 0.9922\n",
      "Epoch 20/30\n",
      "60000/60000 [==============================] - 10s 167us/step - loss: 0.0431 - accuracy: 0.9904\n",
      "Epoch 21/30\n",
      "60000/60000 [==============================] - 10s 166us/step - loss: 0.0310 - accuracy: 0.9927\n",
      "Epoch 22/30\n",
      "60000/60000 [==============================] - 10s 165us/step - loss: 0.0326 - accuracy: 0.9929\n",
      "Epoch 23/30\n",
      "60000/60000 [==============================] - 10s 159us/step - loss: 0.0441 - accuracy: 0.9915\n",
      "Epoch 24/30\n",
      "60000/60000 [==============================] - 9s 157us/step - loss: 0.0279 - accuracy: 0.9940\n",
      "Epoch 25/30\n",
      "60000/60000 [==============================] - 9s 157us/step - loss: 0.0388 - accuracy: 0.9931\n",
      "Epoch 26/30\n",
      "60000/60000 [==============================] - 10s 160us/step - loss: 0.0270 - accuracy: 0.9941\n",
      "Epoch 27/30\n",
      "60000/60000 [==============================] - 10s 165us/step - loss: 0.0338 - accuracy: 0.9933\n",
      "Epoch 28/30\n",
      "60000/60000 [==============================] - 10s 159us/step - loss: 0.0377 - accuracy: 0.9939\n",
      "Epoch 29/30\n",
      "60000/60000 [==============================] - 10s 159us/step - loss: 0.0316 - accuracy: 0.9936\n",
      "Epoch 30/30\n",
      "60000/60000 [==============================] - 10s 163us/step - loss: 0.0294 - accuracy: 0.9942\n"
     ]
    },
    {
     "data": {
      "text/plain": [
       "<keras.callbacks.callbacks.History at 0x7f24af2d3da0>"
      ]
     },
     "execution_count": 28,
     "metadata": {},
     "output_type": "execute_result"
    }
   ],
   "source": [
    "model.fit(X_train,y_train,epochs=30)"
   ]
  },
  {
   "cell_type": "code",
   "execution_count": 49,
   "metadata": {},
   "outputs": [
    {
     "data": {
      "text/plain": [
       "<matplotlib.image.AxesImage at 0x7f240abc53c8>"
      ]
     },
     "execution_count": 49,
     "metadata": {},
     "output_type": "execute_result"
    },
    {
     "data": {
      "image/png": "[encoded data removed]",
      "text/plain": [
       "<Figure size 432x288 with 1 Axes>"
      ]
     },
     "metadata": {
      "needs_background": "light"
     },
     "output_type": "display_data"
    }
   ],
   "source": [
    "plt.imshow(X_test[0].reshape(28,28),cmap='gray')"
   ]
  },
  {
   "cell_type": "code",
   "execution_count": 65,
   "metadata": {},
   "outputs": [],
   "source": [
    "y_pred = model.predict_classes(X_test)"
   ]
  },
  {
   "cell_type": "code",
   "execution_count": 66,
   "metadata": {},
   "outputs": [
    {
     "data": {
      "text/plain": [
       "array([7, 2, 1, ..., 4, 5, 6], dtype=uint8)"
      ]
     },
     "execution_count": 66,
     "metadata": {},
     "output_type": "execute_result"
    }
   ],
   "source": [
    "y_test"
   ]
  },
  {
   "cell_type": "code",
   "execution_count": 67,
   "metadata": {},
   "outputs": [
    {
     "data": {
      "text/plain": [
       "7"
      ]
     },
     "execution_count": 67,
     "metadata": {},
     "output_type": "execute_result"
    }
   ],
   "source": [
    "y_pred[0]"
   ]
  },
  {
   "cell_type": "code",
   "execution_count": null,
   "metadata": {},
   "outputs": [],
   "source": []
  }
 ],
 "metadata": {
  "kernelspec": {
   "display_name": "Python 3",
   "language": "python",
   "name": "python3"
  },
  "language_info": {
   "codemirror_mode": {
    "name": "ipython",
    "version": 3
   },
   "file_extension": ".py",
   "mimetype": "text/x-python",
   "name": "python",
   "nbconvert_exporter": "python",
   "pygments_lexer": "ipython3",
   "version": "3.6.10"
  }
 },
 "nbformat": 4,
 "nbformat_minor": 4
}
